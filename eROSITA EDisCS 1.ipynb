{
 "cells": [
  {
   "cell_type": "code",
   "execution_count": 34,
   "id": "fe5de30c-c7b6-405a-aee5-f7abde09d10d",
   "metadata": {},
   "outputs": [
    {
     "ename": "ModuleNotFoundError",
     "evalue": "No module named 'astropy.coordinates.SkyCoord'",
     "output_type": "error",
     "traceback": [
      "\u001b[1;31m---------------------------------------------------------------------------\u001b[0m",
      "\u001b[1;31mModuleNotFoundError\u001b[0m                       Traceback (most recent call last)",
      "Cell \u001b[1;32mIn[34], line 9\u001b[0m\n\u001b[0;32m      6\u001b[0m \u001b[38;5;28;01mfrom\u001b[39;00m \u001b[38;5;21;01mastropy\u001b[39;00m\u001b[38;5;21;01m.\u001b[39;00m\u001b[38;5;21;01mio\u001b[39;00m \u001b[38;5;28;01mimport\u001b[39;00m ascii\n\u001b[0;32m      8\u001b[0m \u001b[38;5;28;01mimport\u001b[39;00m \u001b[38;5;21;01mastropy\u001b[39;00m\u001b[38;5;21;01m.\u001b[39;00m\u001b[38;5;21;01mcoordinates\u001b[39;00m \u001b[38;5;28;01mas\u001b[39;00m \u001b[38;5;21;01mcoord\u001b[39;00m\n\u001b[1;32m----> 9\u001b[0m \u001b[38;5;28;01mimport\u001b[39;00m \u001b[38;5;21;01mastropy\u001b[39;00m\u001b[38;5;21;01m.\u001b[39;00m\u001b[38;5;21;01mcoordinates\u001b[39;00m\u001b[38;5;21;01m.\u001b[39;00m\u001b[38;5;21;01mSkyCoord\u001b[39;00m \u001b[38;5;28;01mas\u001b[39;00m \u001b[38;5;21;01mSkyCoord\u001b[39;00m\n\u001b[0;32m     10\u001b[0m \u001b[38;5;28;01mimport\u001b[39;00m \u001b[38;5;21;01mastropy\u001b[39;00m\u001b[38;5;21;01m.\u001b[39;00m\u001b[38;5;21;01munits\u001b[39;00m \u001b[38;5;28;01mas\u001b[39;00m \u001b[38;5;21;01mu\u001b[39;00m\n",
      "\u001b[1;31mModuleNotFoundError\u001b[0m: No module named 'astropy.coordinates.SkyCoord'"
     ]
    }
   ],
   "source": [
    "# longitude limit = 359.94423568 > l > 179.94423568 degrees\n",
    "# Galactic Center SgrA* (l,b)=(359.94423568,-0.04616002)\n",
    "\n",
    "import numpy as np\n",
    "import matplotlib.pyplot as plt\n",
    "from astropy.io import ascii\n",
    "\n",
    "import astropy.coordinates as coord\n",
    "import astropy.units as u"
   ]
  },
  {
   "cell_type": "code",
   "execution_count": 29,
   "id": "a1ef262c-b835-4e4c-a388-aca0cbf90fd0",
   "metadata": {},
   "outputs": [],
   "source": [
    "tbl = ascii.read(\"table_objsearch_div.csv\")"
   ]
  },
  {
   "cell_type": "code",
   "execution_count": 30,
   "id": "fd4ab733-0ae8-4849-ad3f-1764c3128981",
   "metadata": {},
   "outputs": [
    {
     "data": {
      "text/plain": [
       "['No.',\n",
       " 'Object Name',\n",
       " 'RA',\n",
       " 'Dec',\n",
       " 'Object Type',\n",
       " 'cz (Velocity)',\n",
       " 'Redshift (z)',\n",
       " 'z flag',\n",
       " 'Reference',\n",
       " 'Note',\n",
       " 'Photometry',\n",
       " 'Position',\n",
       " 'Redshift',\n",
       " 'Diameter',\n",
       " 'Distances',\n",
       " 'Classification',\n",
       " 'Images',\n",
       " 'Spectra']"
      ]
     },
     "execution_count": 30,
     "metadata": {},
     "output_type": "execute_result"
    }
   ],
   "source": [
    "tbl.colnames"
   ]
  },
  {
   "cell_type": "code",
   "execution_count": 31,
   "id": "e02d8d11-72fb-4171-a41a-daf7f31fcea4",
   "metadata": {},
   "outputs": [],
   "source": [
    "# call in data with the header starting at the first line and data starting at the second line\n",
    "data = ascii.read(\"table_objsearch_div.csv\")"
   ]
  },
  {
   "cell_type": "code",
   "execution_count": 32,
   "id": "0b8312fe-d619-424a-8b3d-c541e6ff2be5",
   "metadata": {},
   "outputs": [],
   "source": [
    "# gets ra and dec columns from file and converts them into degrees\n",
    "ra = coord.Angle(data['RA']*u.degree)\n",
    "ra = ra.wrap_at(180*u.degree)\n",
    "dec = coord.Angle(data['Dec']*u.degree)"
   ]
  },
  {
   "cell_type": "code",
   "execution_count": 33,
   "id": "846ba46e-dcd3-43e9-94bb-9316e3897421",
   "metadata": {},
   "outputs": [
    {
     "ename": "NameError",
     "evalue": "name 'SkyCoord' is not defined",
     "output_type": "error",
     "traceback": [
      "\u001b[1;31m---------------------------------------------------------------------------\u001b[0m",
      "\u001b[1;31mNameError\u001b[0m                                 Traceback (most recent call last)",
      "Cell \u001b[1;32mIn[33], line 9\u001b[0m\n\u001b[0;32m      1\u001b[0m \u001b[38;5;124;03m'''\u001b[39;00m\n\u001b[0;32m      2\u001b[0m \n\u001b[0;32m      3\u001b[0m \u001b[38;5;124;03mWhat I would do if I could get the lines above to convert from \"Column\" type \u001b[39;00m\n\u001b[0;32m      4\u001b[0m \u001b[38;5;124;03mto a typing that would allow me to convert ra and dec to degrees\u001b[39;00m\n\u001b[0;32m      5\u001b[0m \n\u001b[0;32m      6\u001b[0m \u001b[38;5;124;03m'''\u001b[39;00m\n\u001b[0;32m      8\u001b[0m \u001b[38;5;66;03m# converts ra/dec from degrees to galactic coordinates\u001b[39;00m\n\u001b[1;32m----> 9\u001b[0m c_icrs \u001b[38;5;241m=\u001b[39m \u001b[43mSkyCoord\u001b[49m(ra, dec, frame\u001b[38;5;241m=\u001b[39m\u001b[38;5;124m'\u001b[39m\u001b[38;5;124micrs\u001b[39m\u001b[38;5;124m'\u001b[39m)\n\u001b[0;32m     10\u001b[0m gal_coords \u001b[38;5;241m=\u001b[39m c_ircs\u001b[38;5;241m.\u001b[39mgalactic\n",
      "\u001b[1;31mNameError\u001b[0m: name 'SkyCoord' is not defined"
     ]
    }
   ],
   "source": [
    "'''\n",
    "\n",
    "What I would do if I could get the lines above to convert from \"Column\" type \n",
    "to a typing that would allow me to convert ra and dec to degrees\n",
    "\n",
    "'''\n",
    "\n",
    "# converts ra/dec from degrees to galactic coordinates\n",
    "c_icrs = SkyCoord(ra, dec, frame='icrs')\n",
    "gal_coords = c_ircs.galactic"
   ]
  },
  {
   "cell_type": "code",
   "execution_count": null,
   "id": "41110f94-85a7-44a2-883e-7e36ec2cf0f6",
   "metadata": {},
   "outputs": [],
   "source": [
    "# set limits for erosita max and min latitudes\n",
    "erosita_lat_maxmax = (359.94423568,90)\n",
    "erosita_lat_minmin = (179.94423568,-90)\n",
    "\n",
    "# set empty array to find which coordinates are within the limits\n",
    "in_erosita = []\n",
    "\n",
    "for i in range(len(gal_coords)):\n",
    "    if erosita_lat_maxmax < gal_coords[i] and gal_coords[i] > erosita_lat_minmin:\n",
    "        in_erosita.append(gal_coords[i])"
   ]
  },
  {
   "cell_type": "code",
   "execution_count": null,
   "id": "3cebb188-0010-4861-a25e-dff8c7e1653e",
   "metadata": {},
   "outputs": [],
   "source": [
    "# checks the coordinates that are in the erosita limits\n",
    "print(in_erosita)"
   ]
  }
 ],
 "metadata": {
  "kernelspec": {
   "display_name": "Python 3 (ipykernel)",
   "language": "python",
   "name": "python3"
  },
  "language_info": {
   "codemirror_mode": {
    "name": "ipython",
    "version": 3
   },
   "file_extension": ".py",
   "mimetype": "text/x-python",
   "name": "python",
   "nbconvert_exporter": "python",
   "pygments_lexer": "ipython3",
   "version": "3.12.0"
  }
 },
 "nbformat": 4,
 "nbformat_minor": 5
}
