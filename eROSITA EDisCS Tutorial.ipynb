{
 "cells": [
  {
   "cell_type": "markdown",
   "id": "12a6315c-cfee-4ea5-a574-f6d454146b37",
   "metadata": {},
   "source": [
    "<h1>eROSITA EDisCS Research Tutorial</h1>\n",
    "\n",
    "I will be going over how I wrote the code for my eROSITA EDisCS research. We will be using publically available data for the EDisCS survey (White et al. 2005) and publically available data from Data Release 1 of the eROSITA survey (Bulbal et al 2024).\n",
    "\n",
    "### Introductory Information\n",
    "The EDisCS survey is short for ESO Distant Cluster Survey. This survey consists of 20 fields containing distant cluster galaxies with redshifts ranging from 0.4 to nearly 1.0. The goal of this survey is to study the evolution of high redhisft galaxies. This matters because observing high redshift galaxies from Earth shows conditions of galaxies from over a billion years ago.\n",
    "\n",
    "The eROSITA survey is a recent Russian-German cosmological survey that aims to gather a large sample of X-ray clusters in order to contrain cosmological parameters of galaxy evolution. Data release 1 of this survey contains the first 6 months of observations done by the eROSITA telescope. The first data release contained 12,247 galaxy groups and clusters with 8,361 of these sources not being represented in research literature before.\n",
    "\n",
    "The goal of this research is to analyze how many of the EDisCS clusters are within the bounds of the eROSITA data released by the Germans and understand why some of these clusters may not have been detected. This only contains the western hemisphere of the sky as the eastern hemisphere data of eROSITA is owned by the Russians, who have yet to release their data."
   ]
  },
  {
   "cell_type": "markdown",
   "id": "44f5b577-afe5-4b97-b466-2c8305039345",
   "metadata": {},
   "source": [
    "### Part 1: Are EDisCS Clusters Within The Region of eROSITA?\n",
    "\n",
    "We will first go through how I discovered if any EDisCS clusters are within the eROSITA region and the amount of clusters if any. I copied the RA and Dec values from Table 2 from White et al. 2005 into one .csv file. This .csv file where RA and Dec are in the same columns of the table. This is to fix some issues I was having with a specific packages interacting (Astropy and PyAstronomy). \n",
    "\n",
    "We will also be working this the eROSITA longitude limits of 359.94423568 > l > 179.94423568 degrees to determine what EDisCS fall under this area."
   ]
  },
  {
   "cell_type": "markdown",
   "id": "5e93c03c-5b1c-41f4-8ee0-a6b0ef4be220",
   "metadata": {},
   "source": [
    "We will be importing the following packages for this section:"
   ]
  },
  {
   "cell_type": "code",
   "execution_count": null,
   "id": "08eeafb3-9a91-46f9-9b52-6703b18b8c83",
   "metadata": {},
   "outputs": [],
   "source": [
    "import numpy as np\n",
    "import matplotlib.pyplot as plt\n",
    "import astropy.coordinates as coord\n",
    "import astropy.units as u\n",
    "from astropy.io import ascii\n",
    "from PyAstronomy import pyasl\n",
    "from astropy.coordinates import SkyCoord"
   ]
  },
  {
   "cell_type": "markdown",
   "id": "5fbed5e5-4432-4602-b1fc-fdb5e1d3fe4d",
   "metadata": {},
   "source": [
    "We will first import the two files into RA and Dec arrays:"
   ]
  },
  {
   "cell_type": "code",
   "execution_count": null,
   "id": "8795e641-a717-4464-b598-feacc251f943",
   "metadata": {},
   "outputs": [],
   "source": [
    "# read the data table and import the RA and Dec column into an array\n",
    "data_combined = ascii.read(\"ediscs coords topcat.csv\", header_start=1, data_start = 2)\n",
    "ra_dec = data_combined['RA and Dec']\n",
    "\n",
    "ra_dec_deg = []\n",
    "\n",
    "# converts the RA and Dec arrays from Sexagesimal coordinates to Decimal Degrees\n",
    "for i in range(len(ra_dec)):\n",
    "    ra_dec_deg.append(pyasl.coordsSexaToDeg(str(ra_dec[i])))\n",
    "\n",
    "# check for if the conversion worked and if it read every set of coordinates\n",
    "print(ra_dec_deg)"
   ]
  },
  {
   "cell_type": "markdown",
   "id": "fcdb5cd6-cb38-49aa-97a0-1fefd9c26443",
   "metadata": {},
   "source": [
    "We now want to slice these coordinates into individual arrays in order to convert them into Galactic coordinates."
   ]
  },
  {
   "cell_type": "code",
   "execution_count": null,
   "id": "7609491c-d09b-46c7-88c1-7b62b1c58111",
   "metadata": {},
   "outputs": [],
   "source": [
    "# sliced the combined ra and deg to the ra individually\n",
    "ra_deg = []\n",
    "\n",
    "for i in range(len(ra_dec_deg)):\n",
    "    ra_deg.append(ra_dec_deg[i][0])\n",
    "\n",
    "print(ra_deg)"
   ]
  },
  {
   "cell_type": "code",
   "execution_count": null,
   "id": "a0d03ad6-694b-437f-9604-c55c598b84a2",
   "metadata": {},
   "outputs": [],
   "source": [
    "# repeated the step above to get the dec individually\n",
    "dec_deg = []\n",
    "\n",
    "for i in range(len(ra_dec_deg)):\n",
    "    dec_deg.append(ra_dec_deg[i][1])\n",
    "\n",
    "print(dec_deg)"
   ]
  },
  {
   "cell_type": "code",
   "execution_count": null,
   "id": "b3c38ff1-3464-4d4d-a618-b06bfc4b4a13",
   "metadata": {},
   "outputs": [],
   "source": [
    "# converts ra/dec from degrees to galactic coordinates using SkyCoord from astropy.coordinates\n",
    "c_ircs = SkyCoord(ra_deg, dec_deg, frame='icrs', unit=u.deg)\n",
    "gal_coords = c_ircs.galactic\n",
    "\n",
    "print(gal_coords)"
   ]
  },
  {
   "cell_type": "markdown",
   "id": "77706268-55e0-44cf-9f59-e71896da7efc",
   "metadata": {},
   "source": [
    "These will combine the arrays into nested arrays so we must split those arrays again to get seperate arrays for latitude and longitude."
   ]
  },
  {
   "cell_type": "code",
   "execution_count": null,
   "id": "f2f5f01b-3bb1-4984-9e3a-804ba72f83a4",
   "metadata": {},
   "outputs": [],
   "source": [
    "# slices the galactic coordinates above to get the l and b values in seperate arrays\n",
    "gal_coords_l = gal_coords.l*u.deg\n",
    "gal_coords_b = gal_coords.b*u.deg"
   ]
  },
  {
   "cell_type": "markdown",
   "id": "4a1b54d1-ec7f-47f4-adb2-80d92e9362cd",
   "metadata": {},
   "source": [
    "We will now use the longitude coordinate (l) to test how many of the EDisCS fall within the eROSITA region of 359.94423568 > l > 179.94423568 degrees."
   ]
  },
  {
   "cell_type": "code",
   "execution_count": null,
   "id": "438e0d15-766b-4bfc-993a-ccb655720b52",
   "metadata": {},
   "outputs": [],
   "source": [
    "# set empty array to find which coordinates are within the limits\n",
    "in_erosita = []\n",
    "\n",
    "# checks if the l value of the EDisCS clusters fall in the l limit of the eROSITA data\n",
    "# longitude limit = 359.94423568 > l > 179.94423568 degrees\n",
    "for i in range(len(gal_coords_l)):\n",
    "    if gal_coords_l[i].value > 179.94423568 and gal_coords_l[i].value < 359.94423568:\n",
    "        in_erosita.append(gal_coords_l[i].value)"
   ]
  },
  {
   "cell_type": "code",
   "execution_count": null,
   "id": "169b41f3-7195-4456-bcf9-9cccfce9c983",
   "metadata": {},
   "outputs": [],
   "source": [
    "# statement to check if the total number number of matches within the eROSITA limits equal the total number of tested coordinates\n",
    "\n",
    "if len(gal_coords_l) == len(in_erosita):\n",
    "    print('All EDisCS clusters fall within the eROSITA survey limits')"
   ]
  },
  {
   "cell_type": "markdown",
   "id": "5ef6f62d-932b-438f-802f-60d17d60d56f",
   "metadata": {},
   "source": [
    "In this case, all EDisCS were within the eROSITA limits. If nothing would've printed from the statement above, I would have printed out the in_erosita array and cross checked coordinates to see which EDisCS were within the bounds."
   ]
  },
  {
   "cell_type": "markdown",
   "id": "dced586c-8f4a-4863-b6d2-dfa17d9a1fdd",
   "metadata": {},
   "source": [
    "We now want to plot EDisCS to see how it fits within the eROSITA region. We will highlight what portion of the plot is not within the region of eROSITA."
   ]
  },
  {
   "cell_type": "code",
   "execution_count": null,
   "id": "5b22fa85-352d-463c-842e-3c0ff6fb9513",
   "metadata": {},
   "outputs": [],
   "source": [
    "ax = plt.subplot(111, projection='aitoff')\n",
    "tick_labels = np.array([210,240,270,300,330,0,30,60,90,120,150])\n",
    "ax.set_xticklabels(tick_labels)\n",
    "ax.grid(True)\n",
    "\n",
    "theta_region = np.linspace(0, np.pi, 100)\n",
    "phi_region = np.linspace(-np.pi/2, np.pi/2, 50)\n",
    "theta_region, phi_region = np.meshgrid(theta_region, phi_region)\n",
    "z_region = np.sin(phi_region)\n",
    "\n",
    "# Fill the region with a color\n",
    "ax.fill(theta_region, phi_region, color='black', alpha=0.5)\n",
    "\n",
    "plt.scatter(gal_coords.l.wrap_at('180d').radian, gal_coords.b.radian,color='b')\n",
    "plt.show()"
   ]
  },
  {
   "cell_type": "markdown",
   "id": "6011de33-df76-42df-9729-56bdcafb8fbb",
   "metadata": {},
   "source": [
    "This plot confirms that the EDisCS we used are within the eROSITA region."
   ]
  },
  {
   "cell_type": "markdown",
   "id": "2fb849fa-3a26-4b58-a225-5c00bef47357",
   "metadata": {},
   "source": [
    "### Part 2: How Many of the EDisCS Have eROSITA Catalogs?\n",
    "\n",
    "For this part, we need to use the eRODat tool and look at the sky viewer using the cluster catalog to see if any of the EDisCS have catalogs in this survey. This is accessible at https://erosita.mpe.mpg.de/dr1/erodat/skyview/sky/. \n",
    "\n",
    "We need to select the eRASS1 cluster Catalog and input our RA and Dec coordaintes to bring the viewer to the location of our clusters. If there is a catalog, there will be a blue dot to indicate it. In this case, we only found a total of two catalogs."
   ]
  },
  {
   "cell_type": "markdown",
   "id": "0c600a9e-6433-4d5f-bd81-bd4c9760a173",
   "metadata": {},
   "source": [
    "### Part 3: Did Luminosity Play A Part In Why Our Clusters Weren't Detected?\n",
    "\n",
    "For this part, we will be looking at if the luminsoties of the EDisCS clusters are why they were not detected by eROSITA. This will be done using the EDisCS masses from White et al. 2005 and converting those to luminosities with a mass relation. The mass relation we will use is the first mass-luminosity relation show in the abstract of Yu-Liang et al. 2023.\n",
    "\n",
    "We will plot these calculated luminosities over the measured luminosities of the eROSITA cluster catalog. The eRASS1 cluster data can be found at the link https://erosita.mpe.mpg.de/dr1/AllSkySurveyData_dr1/Catalogues_dr1/ with the model explaining each header also on this page."
   ]
  },
  {
   "cell_type": "markdown",
   "id": "272181fa-f14e-45cf-bc5a-3a7d5ed818a7",
   "metadata": {},
   "source": [
    "We will first import the following packages:"
   ]
  },
  {
   "cell_type": "code",
   "execution_count": null,
   "id": "0d705911-bce7-42c6-b0c1-e7a495fc21a6",
   "metadata": {},
   "outputs": [],
   "source": [
    "import numpy as np\n",
    "import math\n",
    "import matplotlib.pyplot as plt\n",
    "import matplotlib.ticker as mtick\n",
    "from astropy.io import fits\n",
    "from astropy.cosmology import FlatLambdaCDM\n",
    "from astropy import units as u"
   ]
  },
  {
   "cell_type": "markdown",
   "id": "89c000f8-f758-4c3e-b877-c3cc2e340dd8",
   "metadata": {},
   "source": [
    "We will now extract the redshift, luminosity, flux, and extinction likelihood for each cluster in the eRASS1 cluster Catalog. Our final plot later on will be luminosity on the y-axis and redshift on the x-axis. We will use the flux to calculate predicted luminosities with the inverse square law to see if our luminosity distances are accurate. Then, we can use the luminosity distances, a flux limit, and the eROSITA redshifts to generate a luminosity curve. The eROSITA clusters will be colorcoded based on the extinction likelihood. This is important as it tells us about the reddening of light from the eROSITA clusters with higher luminosities."
   ]
  },
  {
   "cell_type": "code",
   "execution_count": null,
   "id": "ebefa64a-8003-46e2-b6b7-3d1e5166b206",
   "metadata": {},
   "outputs": [],
   "source": [
    "# temporarily opening the fits file in order to extract data from the columns:\n",
    "# 'BEST_Z' = redshift, 'L500' = luminosity at 500 kpc, 'F500' = flux at 500 kpc, 'EXT_LIKE' = extinction likelihood\n",
    "\n",
    "with fits.open(\"erass1cl_primary_v3.2.fits\") as hdu:\n",
    "    data = hdu[1].data\n",
    "    redshift = data['BEST_Z']\n",
    "    lum = data['L500']\n",
    "    flux = data['F500']\n",
    "    ext = data['EXT_LIKE']"
   ]
  },
  {
   "cell_type": "markdown",
   "id": "864bd62c-ea66-4482-9822-a72b5aa4916f",
   "metadata": {},
   "source": [
    "Luminosity values from eRASS1 clusters are given in units of 1e42 ergs/s. We want to convert these values to be in units of ergs/s."
   ]
  },
  {
   "cell_type": "code",
   "execution_count": null,
   "id": "f94da7a9-3ac7-44d9-b6ba-98f6ca050908",
   "metadata": {},
   "outputs": [],
   "source": [
    "# initalize list for luminosity in ergs \n",
    "lum_erg = []\n",
    "\n",
    "# convert inital luminosity values from units of 1e42 ergs s-1 to ergs s-1\n",
    "for i in range(len(lum)):\n",
    "    lum_erg.append(int(lum[i]) * 1e42)"
   ]
  },
  {
   "cell_type": "markdown",
   "id": "9e8ec484-6d25-4921-a2af-1808e3b2677e",
   "metadata": {},
   "source": [
    "I had already manually calculated the luminosity of the EDisCS clusters with the masses given by White et al. 2005, so I hardcoded the luminosities and the known redshifts for these clusters."
   ]
  },
  {
   "cell_type": "code",
   "execution_count": null,
   "id": "3aec9350-fdbf-4767-8160-f1ae44bf84c8",
   "metadata": {},
   "outputs": [],
   "source": [
    "# manually wrote out values I had already computed on the Google Doc\n",
    "redshift_ediscs = [0.47,0.46,0.55,0.42,0.54,0.48,0.59,0.52,0.50,0.58,0.70,0.70,0.75,0.96,0.48,0.80,0.63,0.76]\n",
    "lum_ediscs = [9.555e42,1.26e43,3.719e41,1.469e43,1.154e44,2.893e43,2.496e43,3.199e43,9.521e41,2.538e42,5.644e42,1.623e43,9.693e42,1.017e42,3.698e43,8.237e43,1.539e43,2.305e43]"
   ]
  },
  {
   "cell_type": "markdown",
   "id": "ba66b485-3c13-421d-8d0b-040820175e58",
   "metadata": {},
   "source": [
    "Now, we have what we need to plot the luminosity of the EDisCS clusters over the luminosity of the eROSITA clusters:"
   ]
  },
  {
   "cell_type": "code",
   "execution_count": null,
   "id": "bcf10ca1-4e67-48d0-9c24-6252fd3a79ce",
   "metadata": {},
   "outputs": [],
   "source": [
    "# plotted the observed eROSITA luminosities (inferno cmap) versus the calculated luminosites of the EDisCS survey (red scatterpoints)\n",
    "plt.figure(figsize=(8, 6))\n",
    "plt.title('eROSITA Luminosity vs. EDisCS Luminosity')\n",
    "plt.xlabel('Redshift')\n",
    "plt.ylabel('Luminosity (erg/s)')\n",
    "plt.yscale('log')\n",
    "plt.scatter(redshift,lum_erg,c=(np.log10(ext)),s=4)\n",
    "plt.scatter(redshift_ediscs,lum_ediscs,s=5,color='red')\n",
    "\n",
    "# added a colarbar to display the log10(extinction likelihood) against the observed luminosites of eROSITA\n",
    "plt.colorbar(cmap='inferno',label='Log(ext)')\n",
    "plt.show"
   ]
  },
  {
   "cell_type": "markdown",
   "id": "0dacd176-8bc1-41c9-9f86-9d1e452bd318",
   "metadata": {},
   "source": [
    "We will now make a cosmological object to find the luminosity distances from our redshift and use the distances and the eROSTIA flux to predict luminosities. We will then use the luminosity distances and a flux limit to generate luminosity limits. Then, we will plot the luminosity limits over redshift to plot a luminosity curve as a reference. This reference will allow us to analyze why only two EDisCS clusters were detected by eROSITA."
   ]
  },
  {
   "cell_type": "code",
   "execution_count": null,
   "id": "1de846e1-92f1-4658-9261-68165aa7ac4b",
   "metadata": {},
   "outputs": [],
   "source": [
    "# generated cosmology object\n",
    "cosmo =  FlatLambdaCDM(H0=70 * u.km / u.s / u.Mpc, Om0=0.3)\n",
    "lum_distance = []\n",
    "\n",
    "# used the cosmology object to find the luminosity distances for each redshift\n",
    "for i in range(len(redshift)):\n",
    "    distance = cosmo.luminosity_distance(redshift[i]) \n",
    "    lum_distance.append(distance)"
   ]
  },
  {
   "cell_type": "markdown",
   "id": "8c1acf32-a9c4-43dd-9eca-594e75433acf",
   "metadata": {},
   "source": [
    "Our eROSITA flux values are in units of 1e-14 erg/s/cm2 and we want these values to be in erg/s/cm2. We will do this by conversion."
   ]
  },
  {
   "cell_type": "code",
   "execution_count": null,
   "id": "7ca02751-5a0d-42aa-b259-61c80cc78bdb",
   "metadata": {},
   "outputs": [],
   "source": [
    "# initalized an array for changing the units of the inital flux array\n",
    "flux_corrected = []\n",
    "\n",
    "# changed flux values from units 1e-14 erg/s/cm2 to erg/s/cm2\n",
    "for i in range(len(flux)):\n",
    "    flux_corrected.append(flux[i]* u.erg / u.s / u.cm**2 * 1e-14)"
   ]
  },
  {
   "cell_type": "markdown",
   "id": "b284c6a8-1f28-40fa-b976-ab5cc7f66f83",
   "metadata": {},
   "source": [
    "We will now use the luminosity distance array and the flux array to predict what our luminosities for the eROSITA clusters should be. If these values are similar to the ones that eROSITA measured, we know our luminosity distances are accurate."
   ]
  },
  {
   "cell_type": "code",
   "execution_count": null,
   "id": "b855ba70-8f7d-4600-a2da-95f2d9442e0d",
   "metadata": {},
   "outputs": [],
   "source": [
    "# initalized array for the predicted luminosities \n",
    "pred_lum = []\n",
    "\n",
    "# inputted flux and luminosity distances into inverse square law and checedk predicted luminosities against observed luminosities\n",
    "for i in range(len(redshift)):\n",
    "    L = ((flux_corrected[i])*4*(math.pi)*((lum_distance[i])**2)).to(u.erg / u.s)\n",
    "    pred_lum.append(L)"
   ]
  },
  {
   "cell_type": "markdown",
   "id": "4b8d6cc7-7b9d-4a6c-a61f-c0c4c788eb94",
   "metadata": {},
   "source": [
    "Since our predicted luminosity values are similar to the measured luminosity values, we can start generating an array for luminosity based off a flux limit of 4e-14 ergs/s/cm2:"
   ]
  },
  {
   "cell_type": "code",
   "execution_count": null,
   "id": "faaddcad-a86c-4d30-bde5-66e3b293534e",
   "metadata": {},
   "outputs": [],
   "source": [
    "# initialized flux limit and luminosity curve array\n",
    "flux_limit = 4e-14 * u.erg / u.s / u.cm**2\n",
    "L_limit = []\n",
    "\n",
    "# calculated luminosity curve with inputting luminosity distances and the flux limit into the inverse square law\n",
    "for i in range(len(redshift)):\n",
    "    L = (4 * np.pi * (lum_distance[i])**2 * flux_limit).to(u.erg / u.s)\n",
    "    L_limit.append(L)"
   ]
  },
  {
   "cell_type": "markdown",
   "id": "c0a56d77-ac9a-4fb4-9f8f-dfa907978c40",
   "metadata": {},
   "source": [
    "In order to plot the luminosity curve on our luminosity plot from before, we must make the luminosity limit array dimensionless. We do this by making each Quantity object in our array into values. We also will use a check to keep the redshift and luminosity limit values within the current bounds of the luminosity graph."
   ]
  },
  {
   "cell_type": "code",
   "execution_count": null,
   "id": "aa045a5f-2d3d-4c9e-bc35-8efa98613fbd",
   "metadata": {},
   "outputs": [],
   "source": [
    "# initalized arrays for the correction of the astropy Quantity lists\n",
    "L_limit_fix = []\n",
    "redshift_final = []\n",
    "\n",
    "# set a range for luminosity and redshift ranges that we care about and corrected each member of the luminosity curve and redshift to be dimensionless\n",
    "for i in range(len(L_limit)):\n",
    "    if redshift[i] < 1.4 and L_limit[i].value > 5e41:\n",
    "        L_limit_fix.append(L_limit[i].value)\n",
    "        redshift_final.append(redshift[i])"
   ]
  },
  {
   "cell_type": "markdown",
   "id": "8d0735d3-6c10-4f5b-9b88-4f604ef4ed13",
   "metadata": {},
   "source": [
    "Finally, we can plot our luminosity curve on our luminosity plot:"
   ]
  },
  {
   "cell_type": "code",
   "execution_count": null,
   "id": "74efdcea-2c1e-4ed7-ad81-ab45d1a5fc95",
   "metadata": {},
   "outputs": [],
   "source": [
    "# plotted the same eROSITA Luminosity vs. EDisCS Luminsity plot with an overlaid luminosity limit curve (black)\n",
    "plt.figure(figsize=(8, 6))\n",
    "plt.title('eROSITA Luminosity vs. EDisCS Luminosity')\n",
    "plt.yscale('log')\n",
    "plt.xlabel('Redshift')\n",
    "plt.ylabel('Luminosity (erg/s)')\n",
    "plt.scatter(redshift,lum_erg,c=ext_log,s=4)\n",
    "plt.scatter(redshift_ediscs,lum_ediscs,s=5,color='red')\n",
    "plt.colorbar(cmap='inferno',label='Log(ext)')\n",
    "plt.scatter(redshift_final, L_limit_fix, label='Luminosity Curve',s=1,color='black')\n",
    "plt.show()"
   ]
  },
  {
   "cell_type": "markdown",
   "id": "17154aff-e4af-44da-aca6-4fb5cbbcd1e2",
   "metadata": {},
   "source": [
    "This plot shows that our two detected EDisCS clusters are the only two clusters above the luminosity curve. This means it is likely that the other EDisCS clusters were not detected because of their luminosities."
   ]
  }
 ],
 "metadata": {
  "kernelspec": {
   "display_name": "Python 3 (ipykernel)",
   "language": "python",
   "name": "python3"
  },
  "language_info": {
   "codemirror_mode": {
    "name": "ipython",
    "version": 3
   },
   "file_extension": ".py",
   "mimetype": "text/x-python",
   "name": "python",
   "nbconvert_exporter": "python",
   "pygments_lexer": "ipython3",
   "version": "3.12.0"
  }
 },
 "nbformat": 4,
 "nbformat_minor": 5
}
