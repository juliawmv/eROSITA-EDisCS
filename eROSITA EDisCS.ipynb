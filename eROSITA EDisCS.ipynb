{
 "cells": [
  {
   "cell_type": "code",
   "execution_count": 45,
   "metadata": {},
   "outputs": [],
   "source": [
    "# longitude limit = 359.94423568 > l > 179.94423568 degrees\n",
    "# Galactic Center SgrA* (l,b)=(359.94423568,-0.04616002)\n",
    "\n",
    "import numpy as np\n",
    "import matplotlib.pyplot as plt\n",
    "from astropy.io import ascii\n",
    "\n",
    "import astropy.coordinates as coord\n",
    "import astropy.units as u\n",
    "from PyAstronomy import pyasl\n",
    "from astropy.coordinates import SkyCoord"
   ]
  },
  {
   "cell_type": "code",
   "execution_count": 46,
   "metadata": {},
   "outputs": [
    {
     "data": {
      "text/html": [
       "<div><i>Table length=20</i>\n",
       "<table id=\"table2230131437792\" class=\"table-striped table-bordered table-condensed\">\n",
       "<thead><tr><th>Cluster</th><th>RA</th><th>Dec</th></tr></thead>\n",
       "<thead><tr><th>str11</th><th>str10</th><th>str9</th></tr></thead>\n",
       "<tr><td>1018.8-1211</td><td>10 18 46.8</td><td>-12 11 53</td></tr>\n",
       "<tr><td>1059.2-1253</td><td>10 59 07.1</td><td>-12 53 15</td></tr>\n",
       "<tr><td>1119.3-1129</td><td>11 19 16.7</td><td>-11 30 29</td></tr>\n",
       "<tr><td>1202.7-1224</td><td>12 02 43.4</td><td>-12 24 30</td></tr>\n",
       "<tr><td>1232.5-1250</td><td>12 32 30.5</td><td>-12 50 36</td></tr>\n",
       "<tr><td>1238.5-1144</td><td>12 38 33.0</td><td>-11 44 30</td></tr>\n",
       "<tr><td>1301.7-1139</td><td>13 01 40.1</td><td>-11 39 23</td></tr>\n",
       "<tr><td>1353.0-1137</td><td>13 53 01.7</td><td>-11 37 28</td></tr>\n",
       "<tr><td>1411.1-1148</td><td>14 11 04.6</td><td>-11 48 29</td></tr>\n",
       "<tr><td>1420.3-1236</td><td>14 20 20.0</td><td>-12 36 30</td></tr>\n",
       "<tr><td>1037.9-1243</td><td>10 37 51.2</td><td>-12 43 27</td></tr>\n",
       "<tr><td>1040.7-1155</td><td>10 40 40.4</td><td>-11 56 04</td></tr>\n",
       "<tr><td>1054.4-1146</td><td>10 54 24.5</td><td>-11 46 20</td></tr>\n",
       "<tr><td>1054.7-1245</td><td>10 54 43.6</td><td>-12 45 52</td></tr>\n",
       "<tr><td>1103.7-1245</td><td>11 03 43.4</td><td>-12 45 34</td></tr>\n",
       "<tr><td>1122.9-1136</td><td>11 22 51.6</td><td>-11 36 32</td></tr>\n",
       "<tr><td>1138.2-1133</td><td>11 38 10.3</td><td>-11 33 38</td></tr>\n",
       "<tr><td>1216.8-1201</td><td>12 16 45.1</td><td>-12 01 18</td></tr>\n",
       "<tr><td>1227.9-1138</td><td>12 27 58.9</td><td>-11 35 13</td></tr>\n",
       "<tr><td>1354.2-1230</td><td>13 54 09.7</td><td>-12 31 01</td></tr>\n",
       "</table></div>"
      ],
      "text/plain": [
       "<Table length=20>\n",
       "  Cluster       RA        Dec   \n",
       "   str11      str10       str9  \n",
       "----------- ---------- ---------\n",
       "1018.8-1211 10 18 46.8 -12 11 53\n",
       "1059.2-1253 10 59 07.1 -12 53 15\n",
       "1119.3-1129 11 19 16.7 -11 30 29\n",
       "1202.7-1224 12 02 43.4 -12 24 30\n",
       "1232.5-1250 12 32 30.5 -12 50 36\n",
       "1238.5-1144 12 38 33.0 -11 44 30\n",
       "1301.7-1139 13 01 40.1 -11 39 23\n",
       "1353.0-1137 13 53 01.7 -11 37 28\n",
       "1411.1-1148 14 11 04.6 -11 48 29\n",
       "1420.3-1236 14 20 20.0 -12 36 30\n",
       "1037.9-1243 10 37 51.2 -12 43 27\n",
       "1040.7-1155 10 40 40.4 -11 56 04\n",
       "1054.4-1146 10 54 24.5 -11 46 20\n",
       "1054.7-1245 10 54 43.6 -12 45 52\n",
       "1103.7-1245 11 03 43.4 -12 45 34\n",
       "1122.9-1136 11 22 51.6 -11 36 32\n",
       "1138.2-1133 11 38 10.3 -11 33 38\n",
       "1216.8-1201 12 16 45.1 -12 01 18\n",
       "1227.9-1138 12 27 58.9 -11 35 13\n",
       "1354.2-1230 13 54 09.7 -12 31 01"
      ]
     },
     "execution_count": 46,
     "metadata": {},
     "output_type": "execute_result"
    }
   ],
   "source": [
    "# display table with cluster name, ra, and dec in seperate columns\n",
    "\n",
    "tb1 = ascii.read(\"ediscs coords only.csv\", header_start=0)\n",
    "tb1"
   ]
  },
  {
   "cell_type": "code",
   "execution_count": 47,
   "metadata": {},
   "outputs": [],
   "source": [
    "# initializes ra and dec columns to their own arrays\n",
    "data = ascii.read(\"ediscs coords only.csv\", header_start=0, data_start=1)\n",
    "ra = data['RA']\n",
    "dec = data['Dec']"
   ]
  },
  {
   "cell_type": "code",
   "execution_count": 48,
   "metadata": {
    "scrolled": true
   },
   "outputs": [
    {
     "data": {
      "text/html": [
       "<div><i>Table length=21</i>\n",
       "<table id=\"table2230132354432\" class=\"table-striped table-bordered table-condensed\">\n",
       "<thead><tr><th>col1</th><th>col2</th></tr></thead>\n",
       "<thead><tr><th>str11</th><th>str20</th></tr></thead>\n",
       "<tr><td>Cluster</td><td>RA and Dec</td></tr>\n",
       "<tr><td>1018.8-1211</td><td>10 18 46.8 -12 11 53</td></tr>\n",
       "<tr><td>1059.2-1253</td><td>10 59 07.1 -12 53 15</td></tr>\n",
       "<tr><td>1119.3-1129</td><td>11 19 16.7 -11 30 29</td></tr>\n",
       "<tr><td>1202.7-1224</td><td>12 02 43.4 -12 24 30</td></tr>\n",
       "<tr><td>1232.5-1250</td><td>12 32 30.5 -12 50 36</td></tr>\n",
       "<tr><td>1238.5-1144</td><td>12 38 33.0 -11 44 30</td></tr>\n",
       "<tr><td>1301.7-1139</td><td>13 01 40.1 -11 39 23</td></tr>\n",
       "<tr><td>1353.0-1137</td><td>13 53 01.7 -11 37 28</td></tr>\n",
       "<tr><td>1411.1-1148</td><td>14 11 04.6 -11 48 29</td></tr>\n",
       "<tr><td>1420.3-1236</td><td>14 20 20.0 -12 36 30</td></tr>\n",
       "<tr><td>1037.9-1243</td><td>10 37 51.2 -12 43 27</td></tr>\n",
       "<tr><td>1040.7-1155</td><td>10 40 40.4 -11 56 04</td></tr>\n",
       "<tr><td>1054.4-1146</td><td>10 54 24.5 -11 46 20</td></tr>\n",
       "<tr><td>1054.7-1245</td><td>10 54 43.6 -12 45 52</td></tr>\n",
       "<tr><td>1103.7-1245</td><td>11 03 43.4 -12 45 34</td></tr>\n",
       "<tr><td>1122.9-1136</td><td>11 22 51.6 -11 36 32</td></tr>\n",
       "<tr><td>1138.2-1133</td><td>11 38 10.3 -11 33 38</td></tr>\n",
       "<tr><td>1216.8-1201</td><td>12 16 45.1 -12 01 18</td></tr>\n",
       "<tr><td>1227.9-1138</td><td>12 27 58.9 -11 35 13</td></tr>\n",
       "<tr><td>1354.2-1230</td><td>13 54 09.7 -12 31 01</td></tr>\n",
       "</table></div>"
      ],
      "text/plain": [
       "<Table length=21>\n",
       "    col1            col2        \n",
       "   str11           str20        \n",
       "----------- --------------------\n",
       "    Cluster           RA and Dec\n",
       "1018.8-1211 10 18 46.8 -12 11 53\n",
       "1059.2-1253 10 59 07.1 -12 53 15\n",
       "1119.3-1129 11 19 16.7 -11 30 29\n",
       "1202.7-1224 12 02 43.4 -12 24 30\n",
       "1232.5-1250 12 32 30.5 -12 50 36\n",
       "1238.5-1144 12 38 33.0 -11 44 30\n",
       "1301.7-1139 13 01 40.1 -11 39 23\n",
       "1353.0-1137 13 53 01.7 -11 37 28\n",
       "1411.1-1148 14 11 04.6 -11 48 29\n",
       "1420.3-1236 14 20 20.0 -12 36 30\n",
       "1037.9-1243 10 37 51.2 -12 43 27\n",
       "1040.7-1155 10 40 40.4 -11 56 04\n",
       "1054.4-1146 10 54 24.5 -11 46 20\n",
       "1054.7-1245 10 54 43.6 -12 45 52\n",
       "1103.7-1245 11 03 43.4 -12 45 34\n",
       "1122.9-1136 11 22 51.6 -11 36 32\n",
       "1138.2-1133 11 38 10.3 -11 33 38\n",
       "1216.8-1201 12 16 45.1 -12 01 18\n",
       "1227.9-1138 12 27 58.9 -11 35 13\n",
       "1354.2-1230 13 54 09.7 -12 31 01"
      ]
     },
     "execution_count": 48,
     "metadata": {},
     "output_type": "execute_result"
    }
   ],
   "source": [
    "# import and check a secondary table with a combined ra and dec column\n",
    "\n",
    "tb2 = ascii.read(\"ediscs coords topcat.csv\",)\n",
    "tb2"
   ]
  },
  {
   "cell_type": "code",
   "execution_count": 49,
   "metadata": {},
   "outputs": [
    {
     "data": {
      "text/plain": [
       "['Cluster', 'RA and Dec']"
      ]
     },
     "execution_count": 49,
     "metadata": {},
     "output_type": "execute_result"
    }
   ],
   "source": [
    "# made a secondary table with ra and dec combined in its own column for easy use of pyastronomy\n",
    "\n",
    "tb2 = ascii.read(\"ediscs coords topcat.csv\", header_start=1)\n",
    "tb2.colnames"
   ]
  },
  {
   "cell_type": "code",
   "execution_count": 50,
   "metadata": {},
   "outputs": [
    {
     "name": "stdout",
     "output_type": "stream",
     "text": [
      "[(154.695, -12.198055555555555), (164.77958333333333, -12.8875), (169.81958333333333, -11.508055555555556), (180.68083333333334, -12.408333333333333), (188.12708333333333, -12.843333333333334), (189.6375, -11.741666666666665), (195.41708333333332, -11.65638888888889), (208.25708333333333, -11.624444444444444), (212.76916666666668, -11.808055555555557), (215.08333333333334, -12.608333333333333), (159.46333333333334, -12.724166666666667), (160.16833333333332, -11.934444444444445), (163.60208333333333, -11.772222222222224), (163.68166666666667, -12.764444444444445), (165.93083333333334, -12.759444444444444), (170.715, -11.608888888888888), (174.54291666666666, -11.560555555555556), (184.18791666666667, -12.021666666666668), (186.99541666666667, -11.586944444444445), (208.54041666666666, -12.516944444444444)]\n"
     ]
    }
   ],
   "source": [
    "# initialize the column of ra and dec combined then convert them from sexagesimal to decimal degrees\n",
    "data_combined = ascii.read(\"ediscs coords topcat.csv\", header_start=1, data_start = 2)\n",
    "ra_dec = data_combined['RA and Dec']\n",
    "\n",
    "ra_dec_deg = []\n",
    "\n",
    "for i in range(len(ra_dec)):\n",
    "    ra_dec_deg.append(pyasl.coordsSexaToDeg(str(ra_dec[i])))\n",
    "\n",
    "# used to check if the conversion worked and if it read every set of coordinates\n",
    "print(ra_dec_deg)"
   ]
  },
  {
   "cell_type": "code",
   "execution_count": 51,
   "metadata": {},
   "outputs": [
    {
     "name": "stdout",
     "output_type": "stream",
     "text": [
      "[154.695, 164.77958333333333, 169.81958333333333, 180.68083333333334, 188.12708333333333, 189.6375, 195.41708333333332, 208.25708333333333, 212.76916666666668, 215.08333333333334, 159.46333333333334, 160.16833333333332, 163.60208333333333, 163.68166666666667, 165.93083333333334, 170.715, 174.54291666666666, 184.18791666666667, 186.99541666666667, 208.54041666666666]\n"
     ]
    }
   ],
   "source": [
    "# sliced the combined ra and deg to the ra individually\n",
    "ra_deg = []\n",
    "\n",
    "for i in range(len(ra_dec_deg)):\n",
    "    ra_deg.append(ra_dec_deg[i][0])\n",
    "\n",
    "print(ra_deg)"
   ]
  },
  {
   "cell_type": "code",
   "execution_count": 52,
   "metadata": {},
   "outputs": [
    {
     "name": "stdout",
     "output_type": "stream",
     "text": [
      "[-12.198055555555555, -12.8875, -11.508055555555556, -12.408333333333333, -12.843333333333334, -11.741666666666665, -11.65638888888889, -11.624444444444444, -11.808055555555557, -12.608333333333333, -12.724166666666667, -11.934444444444445, -11.772222222222224, -12.764444444444445, -12.759444444444444, -11.608888888888888, -11.560555555555556, -12.021666666666668, -11.586944444444445, -12.516944444444444]\n"
     ]
    }
   ],
   "source": [
    "# repeated the step above to get the dec individually\n",
    "dec_deg = []\n",
    "\n",
    "for i in range(len(ra_dec_deg)):\n",
    "    dec_deg.append(ra_dec_deg[i][1])\n",
    "\n",
    "print(dec_deg)"
   ]
  },
  {
   "cell_type": "code",
   "execution_count": 73,
   "metadata": {},
   "outputs": [
    {
     "name": "stdout",
     "output_type": "stream",
     "text": [
      "<SkyCoord (Galactic): (l, b) in deg\n",
      "    [(254.65031196, 35.9869309 ), (265.09143402, 41.58634242),\n",
      "     (269.8514829 , 45.36198999), (284.72911769, 48.73408116),\n",
      "     (295.77817877, 49.76529915), (297.91503018, 51.00449611),\n",
      "     (306.92580778, 51.13600736), (326.02502259, 48.46626448),\n",
      "     (331.91449924, 46.53349213), (334.26838629, 44.78686224),\n",
      "     (259.51217837, 38.63493211), (259.56753637, 39.68191494),\n",
      "     (262.97271975, 41.84307978), (263.82486148, 41.07968615),\n",
      "     (266.25424438, 42.31340532), (271.01477183, 45.7021572 ),\n",
      "     (275.86215467, 47.42359308), (289.68188523, 49.95560531),\n",
      "     (293.80681528, 50.86874284), (325.93663576, 47.53362081)]>\n"
     ]
    }
   ],
   "source": [
    "# converts ra/dec from degrees to galactic coordinates\n",
    "c_ircs = SkyCoord(ra_deg, dec_deg, frame='icrs', unit=u.deg)\n",
    "gal_coords = c_ircs.galactic\n",
    "\n",
    "print(gal_coords)"
   ]
  },
  {
   "cell_type": "code",
   "execution_count": 54,
   "metadata": {},
   "outputs": [],
   "source": [
    "# slices the galactic coordinates above to get the l and b values in seperate arrays\n",
    "gal_coords_l = gal_coords.l*u.deg\n",
    "gal_coords_b = gal_coords.b*u.deg"
   ]
  },
  {
   "cell_type": "code",
   "execution_count": 58,
   "metadata": {},
   "outputs": [],
   "source": [
    "# set empty array to find which coordinates are within the limits\n",
    "in_erosita = []\n",
    "\n",
    "# checks if the l value of the EDisCS clusters fall in the l limit of the eROSITA data\n",
    "# longitude limit = 359.94423568 > l > 179.94423568 degrees\n",
    "for i in range(len(gal_coords_l)):\n",
    "    if gal_coords_l[i].value > 179.94423568 and gal_coords_l[i].value < 359.94423568:\n",
    "        in_erosita.append(gal_coords_l[i].value)"
   ]
  },
  {
   "cell_type": "code",
   "execution_count": 74,
   "metadata": {},
   "outputs": [
    {
     "name": "stdout",
     "output_type": "stream",
     "text": [
      "[254.65031196088268, 265.09143402289266, 269.85148290370694, 284.7291176891316, 295.7781787681417, 297.91503018278826, 306.92580777654825, 326.02502259439643, 331.9144992437366, 334.26838629374, 259.51217837260947, 259.5675363745539, 262.97271975417266, 263.82486148222944, 266.25424437656216, 271.01477182954625, 275.8621546721603, 289.68188522560405, 293.806815283469, 325.936635757103]\n"
     ]
    }
   ],
   "source": [
    "# checks the l coordinates that are in the erosita limits\n",
    "print(in_erosita)"
   ]
  },
  {
   "cell_type": "code",
   "execution_count": 75,
   "metadata": {},
   "outputs": [
    {
     "name": "stdout",
     "output_type": "stream",
     "text": [
      "All EDisCS clusters fall within the eROSITA survey limits\n"
     ]
    }
   ],
   "source": [
    "# statement to check if the total number number of matches within the eROSITA limits equal the total number of tested coordinates\n",
    "\n",
    "if len(gal_coords_l) == len(in_erosita):\n",
    "    print('All EDisCS clusters fall within the eROSITA survey limits')"
   ]
  },
  {
   "cell_type": "code",
   "execution_count": 72,
   "metadata": {},
   "outputs": [
    {
     "data": {
      "text/plain": [
       "<matplotlib.collections.PathCollection at 0x2073eff5f40>"
      ]
     },
     "execution_count": 72,
     "metadata": {},
     "output_type": "execute_result"
    },
    {
     "data": {
      "image/png": "[encoded data removed]",
      "text/plain": [
       "<Figure size 800x600 with 1 Axes>"
      ]
     },
     "metadata": {},
     "output_type": "display_data"
    }
   ],
   "source": [
    "# early attempt of trying to figure out how to plot the coordinates deemed matches\n",
    "\n",
    "fig = plt.figure(figsize=(8,6))\n",
    "ax = fig.add_subplot(111, projection=\"mollweide\")\n",
    "ax.scatter(ra, dec)"
   ]
  }
 ],
 "metadata": {
  "kernelspec": {
   "display_name": "Python 3 (ipykernel)",
   "language": "python",
   "name": "python3"
  },
  "language_info": {
   "codemirror_mode": {
    "name": "ipython",
    "version": 3
   },
   "file_extension": ".py",
   "mimetype": "text/x-python",
   "name": "python",
   "nbconvert_exporter": "python",
   "pygments_lexer": "ipython3",
   "version": "3.12.0"
  }
 },
 "nbformat": 4,
 "nbformat_minor": 4
}
